{
 "cells": [
  {
   "cell_type": "code",
   "execution_count": 8,
   "id": "93ec391f-444c-4eab-96c3-50de905dbae9",
   "metadata": {
    "tags": []
   },
   "outputs": [],
   "source": [
    "from sklearn.preprocessing import OneHotEncoder\n",
    "import matplotlib.pyplot as plt\n",
    "import numpy as np\n",
    "import tensorflow as tf\n",
    "from tensorflow import keras\n",
    "from keras import layers\n",
    "\n",
    "import PIL.ImageOps"
   ]
  },
  {
   "cell_type": "code",
   "execution_count": 9,
   "id": "76d03cff-c6b6-4cc2-aea8-b407bae2eb75",
   "metadata": {
    "tags": []
   },
   "outputs": [],
   "source": [
    "# Load the MNIST dataset\n",
    "\n",
    "(X_train, y_train), (X_test, y_test) = keras.datasets.mnist.load_data()\n",
    "\n",
    "y_train = y_train.reshape(-1, 1)\n",
    "y_test = y_test.reshape(-1, 1)"
   ]
  },
  {
   "cell_type": "code",
   "execution_count": 10,
   "id": "21d21de2-70d8-4eec-9ac0-76856d74ebb2",
   "metadata": {
    "tags": []
   },
   "outputs": [
    {
     "name": "stdout",
     "output_type": "stream",
     "text": [
      "X_train.shape: (60000, 28, 28)\n",
      "y_train.shape: (60000, 1)\n",
      "X_test.shape: (10000, 28, 28)\n",
      "y_test.shape: (10000, 1)\n",
      "\n",
      "Image 21 label: [0]\n"
     ]
    },
    {
     "data": {
      "image/png": "[encoded data removed]",
      "text/plain": [
       "<Figure size 640x480 with 1 Axes>"
      ]
     },
     "metadata": {},
     "output_type": "display_data"
    }
   ],
   "source": [
    "# Inspect the dataset\n",
    "\n",
    "# Shapes\n",
    "print(f\"X_train.shape: {X_train.shape}\")\n",
    "print(f\"y_train.shape: {y_train.shape}\")\n",
    "print(f\"X_test.shape: {X_test.shape}\")\n",
    "print(f\"y_test.shape: {y_test.shape}\")\n",
    "print(\"\")\n",
    "\n",
    "# Show an example image and the corresponding label\n",
    "idx = 21\n",
    "fig, ax = plt.subplots()\n",
    "ax.imshow(X_train[idx], cmap=\"gray\")\n",
    "print(f\"Image {idx} label: {y_train[idx]}\")"
   ]
  },
  {
   "cell_type": "code",
   "execution_count": 11,
   "id": "b716442c-7037-4e22-a1d3-f8672e75bbe0",
   "metadata": {
    "tags": []
   },
   "outputs": [
    {
     "name": "stdout",
     "output_type": "stream",
     "text": [
      "y_train.shape: (60000, 10)\n",
      "y_test.shape: (10000, 10)\n",
      "\n",
      "Image 21 label: [[1. 0. 0. 0. 0. 0. 0. 0. 0. 0.]]\n"
     ]
    }
   ],
   "source": [
    "# Encode the targets\n",
    "\n",
    "enc = OneHotEncoder()\n",
    "enc.fit(y_train)\n",
    "\n",
    "# Reshape the image size\n",
    "y_train = enc.transform(y_train).reshape((-1, 10)).todense()\n",
    "y_test = enc.transform(y_test).reshape((-1, 10)).todense()\n",
    "\n",
    "print(f\"y_train.shape: {y_train.shape}\")\n",
    "print(f\"y_test.shape: {y_test.shape}\")\n",
    "print(\"\")\n",
    "\n",
    "print(f\"Image {idx} label: {y_train[idx]}\")\n"
   ]
  },
  {
   "cell_type": "code",
   "execution_count": 12,
   "id": "951a72dc-abee-4b45-a6be-669c863b4523",
   "metadata": {
    "tags": []
   },
   "outputs": [
    {
     "name": "stdout",
     "output_type": "stream",
     "text": [
      "Model: \"sequential_1\"\n",
      "_________________________________________________________________\n",
      " Layer (type)                Output Shape              Param #   \n",
      "=================================================================\n",
      " flatten_1 (Flatten)         (None, 784)               0         \n",
      "                                                                 \n",
      " normalization_1 (Normalizat  (None, 784)              1569      \n",
      " ion)                                                            \n",
      "                                                                 \n",
      " dense_2 (Dense)             (None, 20)                15700     \n",
      "                                                                 \n",
      " dense_3 (Dense)             (None, 10)                210       \n",
      "                                                                 \n",
      "=================================================================\n",
      "Total params: 17,479\n",
      "Trainable params: 15,910\n",
      "Non-trainable params: 1,569\n",
      "_________________________________________________________________\n"
     ]
    }
   ],
   "source": [
    "# Create the model\n",
    "\n",
    "flattening_layer = layers.Flatten()\n",
    "\n",
    "# Normalise the data using a normalisation layer\n",
    "normalisation_layer = layers.Normalization(axis=-1)\n",
    "normalisation_layer.adapt(flattening_layer(X_train))\n",
    "\n",
    "model = keras.Sequential([\n",
    "    keras.Input(shape=(28, 28)),\n",
    "    flattening_layer,\n",
    "    normalisation_layer,\n",
    "    layers.Dense(20, activation=\"relu\"),\n",
    "    # Number of neurons matches the number of classes\n",
    "    layers.Dense(10, activation=\"softmax\"),\n",
    "])\n",
    "\n",
    "model.compile(optimizer=\"rmsprop\",\n",
    "              loss=\"categorical_crossentropy\",\n",
    "              metrics=[\"accuracy\"],\n",
    ")\n",
    "\n",
    "model.summary()"
   ]
  },
  {
   "cell_type": "code",
   "execution_count": 7,
   "id": "2432cb8d-56a1-4426-9b40-a74f92f2c421",
   "metadata": {
    "tags": []
   },
   "outputs": [
    {
     "name": "stdout",
     "output_type": "stream",
     "text": [
      "Epoch 1/10\n",
      "3188/3188 - 9s - loss: 0.3486 - accuracy: 0.9033 - val_loss: 0.2183 - val_accuracy: 0.9423 - 9s/epoch - 3ms/step\n",
      "Epoch 2/10\n",
      "3188/3188 - 8s - loss: 0.2388 - accuracy: 0.9409 - val_loss: 0.2259 - val_accuracy: 0.9463 - 8s/epoch - 2ms/step\n",
      "Epoch 3/10\n",
      "3188/3188 - 7s - loss: 0.2226 - accuracy: 0.9464 - val_loss: 0.2322 - val_accuracy: 0.9484 - 7s/epoch - 2ms/step\n",
      "Epoch 4/10\n",
      "3188/3188 - 8s - loss: 0.2045 - accuracy: 0.9519 - val_loss: 0.2382 - val_accuracy: 0.9478 - 8s/epoch - 2ms/step\n",
      "Epoch 5/10\n",
      "3188/3188 - 8s - loss: 0.1996 - accuracy: 0.9532 - val_loss: 0.2670 - val_accuracy: 0.9467 - 8s/epoch - 2ms/step\n",
      "Epoch 6/10\n",
      "3188/3188 - 8s - loss: 0.1937 - accuracy: 0.9553 - val_loss: 0.2583 - val_accuracy: 0.9516 - 8s/epoch - 2ms/step\n",
      "Epoch 7/10\n",
      "3188/3188 - 7s - loss: 0.1874 - accuracy: 0.9567 - val_loss: 0.2720 - val_accuracy: 0.9508 - 7s/epoch - 2ms/step\n",
      "Epoch 8/10\n",
      "3188/3188 - 8s - loss: 0.1808 - accuracy: 0.9585 - val_loss: 0.2946 - val_accuracy: 0.9477 - 8s/epoch - 3ms/step\n",
      "Epoch 9/10\n",
      "3188/3188 - 7s - loss: 0.1741 - accuracy: 0.9598 - val_loss: 0.3086 - val_accuracy: 0.9481 - 7s/epoch - 2ms/step\n",
      "Epoch 10/10\n",
      "3188/3188 - 7s - loss: 0.1738 - accuracy: 0.9613 - val_loss: 0.3045 - val_accuracy: 0.9478 - 7s/epoch - 2ms/step\n"
     ]
    }
   ],
   "source": [
    "# Train the model\n",
    "\n",
    "# Use early stopping to prevent overfitting\n",
    "\n",
    "es = keras.callbacks.EarlyStopping(\n",
    "    # Monitor validation loss \n",
    "    monitor=\"val_loss\",\n",
    "    min_delta=0.01,\n",
    "    patience=2,\n",
    "    verbose=1,\n",
    "    mode=\"min\",\n",
    "    restore_best_weights=True,\n",
    ")\n",
    "\n",
    "# Train\n",
    "history = model.fit(\n",
    "    X_train,\n",
    "    y_train,\n",
    "    batch_size=16,\n",
    "    epochs=10,\n",
    "    verbose=2,\n",
    "    callbacks=es,\n",
    "    validation_split=0.15,\n",
    ")"
   ]
  },
  {
   "cell_type": "code",
   "execution_count": null,
   "id": "bedb7319-ffc2-44dd-83e1-ea49bb16f823",
   "metadata": {
    "tags": []
   },
   "outputs": [],
   "source": [
    "# Examine the training\n",
    "\n",
    "\n",
    "def add_metric(axs, column, history, metric):\n",
    "    train_metrics = history.history[metric]\n",
    "    val_metrics = history.history[\"val_\" + metric]\n",
    "    epochs = range(1, len(train_metrics) + 1)\n",
    "    \n",
    "    axs[column].plot(epochs, train_metrics)\n",
    "    axs[column].plot(epochs, val_metrics)\n",
    "    axs[column].set_title(\"Training and validation \" + metric)\n",
    "    axs[column].set_xlabel(\"Epochs\")\n",
    "    axs[column].set_ylabel(metric)\n",
    "    axs[column].legend([\"train_\" + metric, \"val_\" + metric])\n",
    "    \n",
    "# Create the figure and add metrics\n",
    "fig, axs = plt.subplots(1, 2, figsize=(16,8))\n",
    "add_metric(axs, 0, history, \"loss\")\n",
    "add_metric(axs, 1, history, \"accuracy\")"
   ]
  },
  {
   "cell_type": "code",
   "execution_count": null,
   "id": "cb04535c-5788-46e9-a6c6-f638beb73300",
   "metadata": {
    "tags": []
   },
   "outputs": [],
   "source": [
    "# Evaluate the model\n",
    "\n",
    "model.evaluate(X_test, y_test)"
   ]
  },
  {
   "cell_type": "code",
   "execution_count": null,
   "id": "ea6ce653-19a2-4f6c-b298-74e67789e671",
   "metadata": {},
   "outputs": [],
   "source": []
  },
  {
   "cell_type": "code",
   "execution_count": null,
   "id": "4780ad53-3c82-4e90-8725-7157fad9730b",
   "metadata": {
    "tags": []
   },
   "outputs": [],
   "source": [
    "# Test the model with own handwriting\n",
    "\n",
    "\n",
    "file = \"test_4.png\"\n",
    "#Build in function in keras + properties\n",
    "img = keras.utils.load_img(\n",
    "    file,\n",
    "    color_mode=\"grayscale\",\n",
    "    interpolation=\"bilinear\",\n",
    "    target_size=(28,28),\n",
    ")\n",
    "\n",
    "# Invert the colors, as this is how the training set is\n",
    "img = PIL.ImageOps.invert(img)\n",
    "\n",
    "# Convert the image into numpy array -> network understands this\n",
    "img_array = keras.utils.img_to_array(\n",
    "    img, \n",
    "    data_format=\"channels_first\",\n",
    ")\n",
    "\n",
    "# Visualise\n",
    "print(f\"img_array.shape: {img_array.shape}\")\n",
    "fig, ax = plt.subplots()\n",
    "ax.imshow(img_array[0], cmap=\"gray\")\n",
    "\n",
    "# Make the prediction\n",
    "pred = model.predict(img_array)\n",
    "\n",
    "# The predicted label is the one with the highest probability\n",
    "pred_label = np.argmax(pred, axis=1)\n",
    "print(f\"pred: {pred}\")\n",
    "print(f\"pred_label: {pred_label}\")"
   ]
  },
  {
   "cell_type": "code",
   "execution_count": null,
   "id": "daece0a2-008f-44e8-aa13-f594685c3a48",
   "metadata": {},
   "outputs": [],
   "source": []
  }
 ],
 "metadata": {
  "kernelspec": {
   "display_name": "Python 3 (ipykernel)",
   "language": "python",
   "name": "python3"
  },
  "language_info": {
   "codemirror_mode": {
    "name": "ipython",
    "version": 3
   },
   "file_extension": ".py",
   "mimetype": "text/x-python",
   "name": "python",
   "nbconvert_exporter": "python",
   "pygments_lexer": "ipython3",
   "version": "3.10.10"
  }
 },
 "nbformat": 4,
 "nbformat_minor": 5
}
